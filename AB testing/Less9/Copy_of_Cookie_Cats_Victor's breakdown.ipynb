{
  "cells": [
    {
      "cell_type": "markdown",
      "metadata": {
        "id": "RRQhIk9mmGYF"
      },
      "source": [
        "**Cookie Cats** это чрезвычайно популярная мобильная игра-головоломка, разработанная компанией Tactile Entertainment. Это классическая игра-головоломка в стиле \"соедини три\", в которой игрок должен соединить плитки одного цвета, чтобы очистить игровое поле и выиграть уровень. "
      ]
    },
    {
      "cell_type": "markdown",
      "metadata": {
        "colab": {
          "base_uri": "https://localhost:8080/",
          "height": 137
        },
        "id": "Rx3rlM2gNJzG",
        "outputId": "8d5914b6-50b7-485d-a54d-13223364dc2b"
      },
      "source": [
        "https://docs.google.com/spreadsheets/d/1Dj6c6pmdg1N_rL3T2zg4HxnBo7poBgm6-g-40ATIJmE/edit#gid=1733885895\n",
        "\n",
        "https://www.kaggle.com/code/mursideyarkin/mobile-games-ab-testing-with-cookie-cats/data"
      ]
    },
    {
      "cell_type": "markdown",
      "metadata": {
        "id": "sm4pnsnXouvy"
      },
      "source": [
        "По мере прохождения уровней игры игроки время от времени будут сталкиваться с вратами, которые заставляют их ждать нетривиальное количество времени или совершать покупки в приложении, чтобы прогрессировать. Помимо стимулирования покупок в приложении, эти ворота служат важной цели - дают игрокам вынужденный перерыв в игре, что, как мы надеемся, приведет к увеличению и продлению удовольствия игрока от игры.\n",
        "\n",
        "\n",
        "Но где должны быть расположены ворота? Изначально первые врата были размещены на 30-м уровне, но в этой тетради мы собираемся проанализировать AB-тест, в котором мы переместили первые врата в Cookie Cats с 30-го на 40-й уровень. В частности, мы рассмотрим влияние на удержание игроков. Но прежде чем мы перейдем к этому, ключевым шагом перед проведением любого анализа является понимание данных. Так что давайте загрузим его и посмотрим!"
      ]
    },
    {
      "cell_type": "code",
      "execution_count": null,
      "metadata": {
        "colab": {
          "base_uri": "https://localhost:8080/",
          "height": 38
        },
        "id": "FuQ7hTO2kPcK",
        "outputId": "2df1a902-cd40-4ed8-a59d-47163f657012"
      },
      "outputs": [
        {
          "data": {
            "text/html": [
              "\n",
              "     <input type=\"file\" id=\"files-925b38bf-e3f8-4121-9379-4d5b5d9729f8\" name=\"files[]\" multiple disabled\n",
              "        style=\"border:none\" />\n",
              "     <output id=\"result-925b38bf-e3f8-4121-9379-4d5b5d9729f8\">\n",
              "      Upload widget is only available when the cell has been executed in the\n",
              "      current browser session. Please rerun this cell to enable.\n",
              "      </output>\n",
              "      <script>// Copyright 2017 Google LLC\n",
              "//\n",
              "// Licensed under the Apache License, Version 2.0 (the \"License\");\n",
              "// you may not use this file except in compliance with the License.\n",
              "// You may obtain a copy of the License at\n",
              "//\n",
              "//      http://www.apache.org/licenses/LICENSE-2.0\n",
              "//\n",
              "// Unless required by applicable law or agreed to in writing, software\n",
              "// distributed under the License is distributed on an \"AS IS\" BASIS,\n",
              "// WITHOUT WARRANTIES OR CONDITIONS OF ANY KIND, either express or implied.\n",
              "// See the License for the specific language governing permissions and\n",
              "// limitations under the License.\n",
              "\n",
              "/**\n",
              " * @fileoverview Helpers for google.colab Python module.\n",
              " */\n",
              "(function(scope) {\n",
              "function span(text, styleAttributes = {}) {\n",
              "  const element = document.createElement('span');\n",
              "  element.textContent = text;\n",
              "  for (const key of Object.keys(styleAttributes)) {\n",
              "    element.style[key] = styleAttributes[key];\n",
              "  }\n",
              "  return element;\n",
              "}\n",
              "\n",
              "// Max number of bytes which will be uploaded at a time.\n",
              "const MAX_PAYLOAD_SIZE = 100 * 1024;\n",
              "\n",
              "function _uploadFiles(inputId, outputId) {\n",
              "  const steps = uploadFilesStep(inputId, outputId);\n",
              "  const outputElement = document.getElementById(outputId);\n",
              "  // Cache steps on the outputElement to make it available for the next call\n",
              "  // to uploadFilesContinue from Python.\n",
              "  outputElement.steps = steps;\n",
              "\n",
              "  return _uploadFilesContinue(outputId);\n",
              "}\n",
              "\n",
              "// This is roughly an async generator (not supported in the browser yet),\n",
              "// where there are multiple asynchronous steps and the Python side is going\n",
              "// to poll for completion of each step.\n",
              "// This uses a Promise to block the python side on completion of each step,\n",
              "// then passes the result of the previous step as the input to the next step.\n",
              "function _uploadFilesContinue(outputId) {\n",
              "  const outputElement = document.getElementById(outputId);\n",
              "  const steps = outputElement.steps;\n",
              "\n",
              "  const next = steps.next(outputElement.lastPromiseValue);\n",
              "  return Promise.resolve(next.value.promise).then((value) => {\n",
              "    // Cache the last promise value to make it available to the next\n",
              "    // step of the generator.\n",
              "    outputElement.lastPromiseValue = value;\n",
              "    return next.value.response;\n",
              "  });\n",
              "}\n",
              "\n",
              "/**\n",
              " * Generator function which is called between each async step of the upload\n",
              " * process.\n",
              " * @param {string} inputId Element ID of the input file picker element.\n",
              " * @param {string} outputId Element ID of the output display.\n",
              " * @return {!Iterable<!Object>} Iterable of next steps.\n",
              " */\n",
              "function* uploadFilesStep(inputId, outputId) {\n",
              "  const inputElement = document.getElementById(inputId);\n",
              "  inputElement.disabled = false;\n",
              "\n",
              "  const outputElement = document.getElementById(outputId);\n",
              "  outputElement.innerHTML = '';\n",
              "\n",
              "  const pickedPromise = new Promise((resolve) => {\n",
              "    inputElement.addEventListener('change', (e) => {\n",
              "      resolve(e.target.files);\n",
              "    });\n",
              "  });\n",
              "\n",
              "  const cancel = document.createElement('button');\n",
              "  inputElement.parentElement.appendChild(cancel);\n",
              "  cancel.textContent = 'Cancel upload';\n",
              "  const cancelPromise = new Promise((resolve) => {\n",
              "    cancel.onclick = () => {\n",
              "      resolve(null);\n",
              "    };\n",
              "  });\n",
              "\n",
              "  // Wait for the user to pick the files.\n",
              "  const files = yield {\n",
              "    promise: Promise.race([pickedPromise, cancelPromise]),\n",
              "    response: {\n",
              "      action: 'starting',\n",
              "    }\n",
              "  };\n",
              "\n",
              "  cancel.remove();\n",
              "\n",
              "  // Disable the input element since further picks are not allowed.\n",
              "  inputElement.disabled = true;\n",
              "\n",
              "  if (!files) {\n",
              "    return {\n",
              "      response: {\n",
              "        action: 'complete',\n",
              "      }\n",
              "    };\n",
              "  }\n",
              "\n",
              "  for (const file of files) {\n",
              "    const li = document.createElement('li');\n",
              "    li.append(span(file.name, {fontWeight: 'bold'}));\n",
              "    li.append(span(\n",
              "        `(${file.type || 'n/a'}) - ${file.size} bytes, ` +\n",
              "        `last modified: ${\n",
              "            file.lastModifiedDate ? file.lastModifiedDate.toLocaleDateString() :\n",
              "                                    'n/a'} - `));\n",
              "    const percent = span('0% done');\n",
              "    li.appendChild(percent);\n",
              "\n",
              "    outputElement.appendChild(li);\n",
              "\n",
              "    const fileDataPromise = new Promise((resolve) => {\n",
              "      const reader = new FileReader();\n",
              "      reader.onload = (e) => {\n",
              "        resolve(e.target.result);\n",
              "      };\n",
              "      reader.readAsArrayBuffer(file);\n",
              "    });\n",
              "    // Wait for the data to be ready.\n",
              "    let fileData = yield {\n",
              "      promise: fileDataPromise,\n",
              "      response: {\n",
              "        action: 'continue',\n",
              "      }\n",
              "    };\n",
              "\n",
              "    // Use a chunked sending to avoid message size limits. See b/62115660.\n",
              "    let position = 0;\n",
              "    do {\n",
              "      const length = Math.min(fileData.byteLength - position, MAX_PAYLOAD_SIZE);\n",
              "      const chunk = new Uint8Array(fileData, position, length);\n",
              "      position += length;\n",
              "\n",
              "      const base64 = btoa(String.fromCharCode.apply(null, chunk));\n",
              "      yield {\n",
              "        response: {\n",
              "          action: 'append',\n",
              "          file: file.name,\n",
              "          data: base64,\n",
              "        },\n",
              "      };\n",
              "\n",
              "      let percentDone = fileData.byteLength === 0 ?\n",
              "          100 :\n",
              "          Math.round((position / fileData.byteLength) * 100);\n",
              "      percent.textContent = `${percentDone}% done`;\n",
              "\n",
              "    } while (position < fileData.byteLength);\n",
              "  }\n",
              "\n",
              "  // All done.\n",
              "  yield {\n",
              "    response: {\n",
              "      action: 'complete',\n",
              "    }\n",
              "  };\n",
              "}\n",
              "\n",
              "scope.google = scope.google || {};\n",
              "scope.google.colab = scope.google.colab || {};\n",
              "scope.google.colab._files = {\n",
              "  _uploadFiles,\n",
              "  _uploadFilesContinue,\n",
              "};\n",
              "})(self);\n",
              "</script> "
            ],
            "text/plain": [
              "<IPython.core.display.HTML object>"
            ]
          },
          "metadata": {},
          "output_type": "display_data"
        }
      ],
      "source": [
        "# Importing pandas\n",
        "import pandas as pd\n",
        "# from google.colab import files\n",
        "# uploaded = files.upload()\n",
        "\n",
        "data = pd.read_csv('.\\результаты А_B - cookie_cats 2.csv') \n",
        "data.head(10)"
      ]
    },
    {
      "cell_type": "code",
      "execution_count": null,
      "metadata": {
        "id": "XRJQC3M2lLeI"
      },
      "outputs": [],
      "source": [
        "import pandas as pd\n",
        "import matplotlib.pyplot as plt\n",
        "\n",
        "df = pd.read_csv('/content/cookie_cats_new1.csv')\n"
      ]
    },
    {
      "cell_type": "code",
      "execution_count": null,
      "metadata": {
        "id": "QbEw9gR4lLbB"
      },
      "outputs": [],
      "source": [
        "#check head\n",
        "df.head()"
      ]
    },
    {
      "cell_type": "code",
      "execution_count": null,
      "metadata": {
        "colab": {
          "base_uri": "https://localhost:8080/",
          "height": 193
        },
        "id": "_kP6uUKuTJJv",
        "outputId": "e7d33462-0db7-4f8e-b40a-6ea42d58caff"
      },
      "outputs": [
        {
          "ename": "NameError",
          "evalue": "ignored",
          "output_type": "error",
          "traceback": [
            "\u001b[0;31m---------------------------------------------------------------------------\u001b[0m",
            "\u001b[0;31mNameError\u001b[0m                                 Traceback (most recent call last)",
            "\u001b[0;32m<ipython-input-2-f07f255252dc>\u001b[0m in \u001b[0;36m<module>\u001b[0;34m\u001b[0m\n\u001b[1;32m      1\u001b[0m \u001b[0;31m# Integrity Check\u001b[0m\u001b[0;34m\u001b[0m\u001b[0;34m\u001b[0m\u001b[0;34m\u001b[0m\u001b[0m\n\u001b[0;32m----> 2\u001b[0;31m \u001b[0mdf\u001b[0m\u001b[0;34m.\u001b[0m\u001b[0minfo\u001b[0m\u001b[0;34m(\u001b[0m\u001b[0;34m)\u001b[0m\u001b[0;34m\u001b[0m\u001b[0;34m\u001b[0m\u001b[0m\n\u001b[0m",
            "\u001b[0;31mNameError\u001b[0m: name 'df' is not defined"
          ]
        }
      ],
      "source": [
        "# Integrity Check\n",
        "df.info()"
      ]
    },
    {
      "cell_type": "code",
      "execution_count": null,
      "metadata": {
        "id": "f1XM_mthTJNt"
      },
      "outputs": [],
      "source": [
        "# Describe\n",
        "df.describe()"
      ]
    },
    {
      "cell_type": "code",
      "execution_count": null,
      "metadata": {
        "id": "e8pL8lbYTJgF"
      },
      "outputs": [],
      "source": [
        "# Check levels\n",
        "df.version.unique()"
      ]
    },
    {
      "cell_type": "code",
      "execution_count": null,
      "metadata": {
        "id": "iYO9rIc_HEJe"
      },
      "outputs": [],
      "source": [
        "df = df[df.sum_gamerounds < 3000]"
      ]
    },
    {
      "cell_type": "code",
      "execution_count": null,
      "metadata": {
        "id": "9qKLeLyCHV_9"
      },
      "outputs": [],
      "source": [
        "# Describe\n",
        "df.describe()"
      ]
    },
    {
      "cell_type": "markdown",
      "metadata": {
        "id": "k-y2SpiJWBEm"
      },
      "source": [
        "### **ВЫВОДЫ**\n",
        "\n",
        "У нас есть **90,189** строки и 5 столбцов, все поля заполнены. Отлично!\n",
        "\n",
        "Столбцами являются userid, version, sum_gamerounds, retention_1 и retention_7.\n",
        "Четыре столбца содержат числа, а один объекты.\n",
        "\n",
        "Как и в большинстве “бесплатных” мобильных игр, в создании продукта есть экономический элемент для получения дохода.\n",
        "В этом случае после стольких уровней наступает принудительный период охлаждения, который игрок может удалить, заплатив определенную плату.\n",
        "Столбец версии в нашем фрейме данных отражает версии с различными воротами, препятствующими прогрессу игрока, после 30 уровней или после 40, они записываются как gate_30 и gate_40.\n",
        "\n",
        "Эти две версии дают нам прекрасную отправную точку для тестирования AB."
      ]
    },
    {
      "cell_type": "markdown",
      "metadata": {
        "id": "EjAjlMMDkZmC"
      },
      "source": [
        "**Sanity Check**\n",
        "\n",
        "Давайте сначала определим размеры выборок, с которыми мы имеем дело, чтобы убедиться, что мы можем приступить к статистически обоснованному сравнению."
      ]
    },
    {
      "cell_type": "code",
      "execution_count": null,
      "metadata": {
        "id": "RzQ_y3S_VsI8"
      },
      "outputs": [],
      "source": [
        "# Counting the number of players in each AB group.\n",
        "A = df.version.groupby(df.version == \"gate_30\").count()\n",
        "B = df.version.groupby(df.version == \"gate_40\").count()\n",
        "print(A)\n",
        "print(B)\n"
      ]
    },
    {
      "cell_type": "markdown",
      "metadata": {
        "id": "naUfxpnnlQJU"
      },
      "source": [
        "Из общего числа наших 90 189 записей примерно половина использует версию gate_30 (которую мы будем называть группой A), а другая половина использует версию gate_40 (которую мы будем называть версией B).\n",
        "\n",
        "Это здорово, мы можем приступить к анализу.\n",
        "\n"
      ]
    },
    {
      "cell_type": "code",
      "execution_count": null,
      "metadata": {
        "id": "fbdaouimjUQQ"
      },
      "outputs": [],
      "source": [
        "from scipy.stats import mannwhitneyu\n",
        "from scipy.stats import ttest_ind"
      ]
    },
    {
      "cell_type": "code",
      "execution_count": null,
      "metadata": {
        "id": "ZudU45DCi82_"
      },
      "outputs": [],
      "source": [
        "mannwhitneyu(df[df.version == 'gate_30'].sum_gamerounds, \n",
        "             df[df.version == 'gate_40'].sum_gamerounds)"
      ]
    },
    {
      "cell_type": "code",
      "execution_count": null,
      "metadata": {
        "id": "ItTbTGkHi89O"
      },
      "outputs": [],
      "source": [
        "ttest_ind(df[df.version == 'gate_30'].sum_gamerounds, \n",
        "             df[df.version == 'gate_40'].sum_gamerounds)"
      ]
    },
    {
      "cell_type": "code",
      "execution_count": null,
      "metadata": {
        "id": "YHc1JpEA8RX1"
      },
      "outputs": [],
      "source": [
        "from scipy.stats import kstest\n",
        "print(kstest(df['sum_gamerounds'][df.version == 'gate_30'], 'norm'))\n",
        "print(kstest(df['sum_gamerounds'][df.version == 'gate_40'], 'norm'))"
      ]
    },
    {
      "cell_type": "markdown",
      "metadata": {
        "id": "pG85EVrdlzeB"
      },
      "source": [
        "**Сколько времени пользователи играют?**\n",
        "\n",
        "Мы хотим посмотреть, сколько и как долго игроки обычно остаются с продуктом. Один из способов измерить метрику в этом случае - проверить, сколько раундов играет каждый пользователь.\n",
        "\n",
        "Поскольку мы используем фрейм данных Pandas, мы можем воспользоваться следующим подходом. Мы будем использовать .groupby(), чтобы установить для каждого пользователя значение bin и вернуть общее количество. Затем мы построим график того, сколько игроков активно в пределах заданного диапазона, показывая нам количество игроков в диапазоне 0-100 от общего количества сыгранных раундов."
      ]
    },
    {
      "cell_type": "code",
      "execution_count": null,
      "metadata": {
        "id": "0XSf53SllUKl"
      },
      "outputs": [],
      "source": [
        "# Counting the number of players for each number of gamerounds \n",
        "plot_df = df.groupby(\"sum_gamerounds\").count()\n",
        "\n",
        "# Plotting the distribution of players that played 0 to 100 game rounds\n",
        "ax = plot_df[:100].plot()\n",
        "ax.set_xlabel(\"Total Game Rounds\")\n",
        "ax.set_ylabel(\"Number Of Players\")\n",
        "ax.set_title(\"Number of Game Rounds Players on the First Week\")"
      ]
    },
    {
      "cell_type": "markdown",
      "metadata": {
        "id": "_tJgcBs3oBaX"
      },
      "source": [
        "#### **ВЫВОД:**\n",
        "\n",
        "Похоже, что подавляющее большинство пользователей играют в общей сложности менее 20 раундов за время записи этих данных.\n",
        "\n",
        "Давайте воспользуемся тем же подходом, чтобы посмотреть, есть ли большая разница в количестве игр, сыгранных в наших версиях AB, выделенных каждому пользователю.\n",
        "\n"
      ]
    },
    {
      "cell_type": "markdown",
      "metadata": {
        "id": "-wtbfRTsorIt"
      },
      "source": [
        "## **Распределение по выборкам: A vs B Всего игр**\n",
        "\n",
        "На этот раз нам нужно будет изучить данные немного подробнее. Мы также собираемся переключиться на наложенный гистограммный график различных распределений группы AB.\n",
        "\n",
        "Поскольку мы уже определили, что отсев пользователей происходит менее чем за 20 сеансов, давайте также изменим наше распределение выборок, чтобы получить более детальное представление о низкой и высокой активности пользователей.\n",
        "\n",
        "\n"
      ]
    },
    {
      "cell_type": "code",
      "execution_count": null,
      "metadata": {
        "id": "kIBsILLepQNg"
      },
      "outputs": [],
      "source": [
        "plt.style.use('ggplot')\n",
        "\n",
        "# Counting the number of players for each number of gamerounds \n",
        "Group_A = df[df.version == 'gate_30']\n",
        "print(Group_A.head())\n",
        "\n",
        "Group_B = df[df.version == 'gate_40']\n",
        "print(Group_B.head())\n",
        "\n",
        "bins = [0,1,10,20,30,40,50,60,70,80,90,100,200,500]\n",
        "plot_GA = pd.DataFrame(Group_A.groupby(pd.cut(Group_A[\"sum_gamerounds\"], bins=bins)).count())\n",
        "plot_GB = pd.DataFrame(Group_B.groupby(pd.cut(Group_B[\"sum_gamerounds\"], bins=bins)).count())\n",
        "#https://pandas.pydata.org/docs/reference/api/pandas.DataFrame.html"
      ]
    },
    {
      "cell_type": "markdown",
      "metadata": {
        "id": "Sp0VbCNgqEiS"
      },
      "source": [
        "Помните, что мы собираемся наложить наши графики, поэтому обратите особое внимание на один подход, который работает в нашем примере, где мы присваиваем второму графику параметр ax = ax, чтобы разрешить наложение второго распределения."
      ]
    },
    {
      "cell_type": "code",
      "execution_count": null,
      "metadata": {
        "id": "1L-g5XL9qEKv"
      },
      "outputs": [],
      "source": [
        "# Plotting the distribution of players that played 0 to 100 game rounds\n",
        "ax = plot_GA.plot(kind = 'bar', y=\"userid\", color = \"blue\", alpha = 1, \n",
        "                       title = 'Total Usage By Groups')\n",
        "plot_GB.plot(kind = 'bar', y=\"userid\", ax=ax, color = \"red\", alpha = 0.7 )\n",
        "ax.set_xlabel(\"Total Game Rounds\")\n",
        "ax.set_ylabel(\"Number of Players\")\n",
        "plt.legend([\"Group A\", \"Group B\"])\n",
        "plt.tight_layout()\n",
        "plt.grid(True)\n"
      ]
    },
    {
      "cell_type": "markdown",
      "metadata": {
        "id": "UG9FjmmNorGG"
      },
      "source": [
        "В целом, похоже, между этими двумя версиями нет большой разницы. Однако, по-видимому, существуют некоторые незначительные различия в пределах 30-40 сыгранных раундов, которые могут быть связаны с тестом AB."
      ]
    },
    {
      "cell_type": "markdown",
      "metadata": {
        "id": "jHg4oQWltEf5"
      },
      "source": [
        "\n",
        "**1-Day Retention**\n",
        "\n",
        "\n",
        "Чего мы хотим, так это чтобы игрокам понравилась игра и они зацепились за нее. Распространенным показателем в индустрии видеоигр для определения того, насколько увлекательна игра, является удержание в течение 1 дня: процент игроков, которые возвращаются и играют в игру через день после ее установки. Чем выше срок удержания в течение 1 дня, тем легче удержать игроков и создать большую базу игроков.\n",
        "\n",
        "В качестве шага давайте посмотрим, что такое 1-дневное удержание в целом.\n",
        "\n"
      ]
    },
    {
      "cell_type": "code",
      "execution_count": null,
      "metadata": {
        "id": "hDLBSI0brpKr"
      },
      "outputs": [],
      "source": [
        "# Calculate percent of returning users - next day\n",
        "oneday = df.retention_1.sum()/df.retention_1.count()\n",
        "print(str(oneday*100)+\"%\")\n"
      ]
    },
    {
      "cell_type": "markdown",
      "metadata": {
        "id": "rg5yBkI4sQF-"
      },
      "source": [
        "\n",
        "**44.52095044850259%**\n",
        "вернулись на следующий день после установки продукта.\n",
        "\n",
        "Чуть меньше половины? Хорошо, просто из любопытства, есть ли какая-либо фундаментальная разница в наших двух группах пользователей с самого начала, независимо от влияния версии? На этот раз давайте поступим так, как мы делали выше, но на этот раз сгруппируем их по группам версий и посмотрим, какие получатся цифры.\n",
        "\n"
      ]
    },
    {
      "cell_type": "code",
      "execution_count": null,
      "metadata": {
        "id": "Dw60UMRXsp-k"
      },
      "outputs": [],
      "source": [
        "# Calculating 1-day retention for each AB-group\n",
        "oneday = df.retention_1.groupby(df.version).sum()/df.retention_1.groupby(df.version).count()\n",
        "print(oneday)\n"
      ]
    },
    {
      "cell_type": "markdown",
      "metadata": {
        "id": "lzmAfmZktEc2"
      },
      "source": [
        "Похоже, что независимо от версии, результаты на следующий день практически одинаковы между нашими экспериментальными группами.\n",
        "\n",
        "Но есть потери в 0,6% среди игроков, рандомизированных на 40 раундовых воротах ... может ли это быть значительным? Возможно, этот продукт увидят миллионы пользователей, и эти дополнительные 0,6% могут вылиться в некоторых платящих клиентов и / или рекламные доллары.\n",
        "\n",
        "Это стоит исследовать.\n",
        "\n",
        "Мы можем использовать *Bootstrapping*, чтобы проверить нашу гипотезу. Бутстрэппинг используется во многих дисциплинах, таких как молекулярная биология, чтобы помочь анализу филогенетики, повторно отобрать и заменить данные и проверить нашу статистическую достоверность наших результатов."
      ]
    },
    {
      "cell_type": "markdown",
      "metadata": {
        "id": "1CFF-xwfvBmp"
      },
      "source": [
        "# **Bootstrapping Means Sampling**"
      ]
    },
    {
      "cell_type": "code",
      "execution_count": null,
      "metadata": {
        "id": "htc59blhvAiT"
      },
      "outputs": [],
      "source": [
        "# Creating an list with bootstrapped means for each AB-group\n",
        "boot_1d = []\n",
        "for i in range(500):\n",
        "    boot_mean = df.retention_1.sample(frac=1, replace=True).groupby(df.version).mean()\n",
        "    boot_1d.append(boot_mean)\n",
        "#https://pandas.pydata.org/docs/reference/api/pandas.DataFrame.sample.html    \n",
        "\n",
        "# Transforming the list to a DataFrame\n",
        "boot_1d = pd.DataFrame(boot_1d)\n",
        "print(boot_1d)\n",
        "    \n"
      ]
    },
    {
      "cell_type": "code",
      "execution_count": null,
      "metadata": {
        "id": "Ku1LM2_Ewqc8"
      },
      "outputs": [],
      "source": [
        "# A Kernel Density Estimate plot of the bootstrap distributions\n",
        "#https://pandas.pydata.org/docs/reference/api/pandas.DataFrame.plot.kde.html\n",
        "ax= boot_1d.plot.kde()\n",
        "ax.set_title(\"The Average of 1-Day Retention for each AB group\")\n",
        "ax.set_xlabel(\"The Average of 1-Day Retention\")"
      ]
    },
    {
      "cell_type": "markdown",
      "metadata": {
        "id": "A5f3h3LHvBjl"
      },
      "source": [
        "**Zooming over % Difference**\n",
        "\n",
        "Эти два распределения выше представляют собой неопределенность бутстрепа в отношении того, каким может быть базовое 1-дневное удержание для двух AB-групп. Давайте увеличим разницу в удержании в течение 1 дня.\n"
      ]
    },
    {
      "cell_type": "code",
      "execution_count": null,
      "metadata": {
        "id": "apPHSZVYwqaj"
      },
      "outputs": [],
      "source": [
        "# Populate a new % Difference Column\n",
        "boot_1d['difference'] = (boot_1d['gate_30'] - boot_1d['gate_40']) /  boot_1d['gate_40'] * 100\n",
        "\n",
        "# Plot the new Column\n",
        "ax = boot_1d['difference'].plot.kde()\n",
        "ax.set_xlabel(\"% Difference for 1-Day Retention by AB-group \")\n",
        "ax.set_title(\"Zooming % Difference\")"
      ]
    },
    {
      "cell_type": "markdown",
      "metadata": {
        "id": "DRD-6oRi2KZn"
      },
      "source": [
        "Из этого графика мы можем видеть, что наиболее вероятная разница в процентах составляет около 1-2%, и что большая часть распределения выше 0% в пользу ворот на уровне 30. Но какова вероятность того, что разница превысит 0%?"
      ]
    },
    {
      "cell_type": "code",
      "execution_count": null,
      "metadata": {
        "id": "jQ09PA112MVJ"
      },
      "outputs": [],
      "source": [
        "prob =(boot_1d['difference'] > 0).sum() / len(boot_1d['difference'])\n",
        "print(str(prob*100)+\"%\")\n"
      ]
    },
    {
      "cell_type": "markdown",
      "metadata": {
        "id": "hrvtZpKG3xja"
      },
      "source": [
        "**Overall 7 Day Retention**\n",
        "\n",
        "Анализ говорит нам, что существует высокая вероятность того, что 1-дневное удержание лучше, когда ворота находятся на уровне 30. Однако, поскольку игроки играют в игру всего один день, вполне вероятно, что большинство игроков еще не достигли 30-го уровня. То есть многие игроки не пострадают от врат, даже если они уже достигли 30-го уровня.\n",
        "\n",
        "Но после недельной игры большее количество игроков должно было достичь 40-го уровня, и поэтому имеет смысл также рассмотреть возможность 7-дневного удержания. То есть: какой процент людей, установивших игру, также появился неделю спустя, чтобы снова поиграть в игру.\n",
        "\n",
        "Давайте начнем с расчета 7-дневного удержания для двух AB-групп."
      ]
    },
    {
      "cell_type": "code",
      "execution_count": null,
      "metadata": {
        "id": "l5vDQ6qo5Ipb"
      },
      "outputs": [],
      "source": [
        "# Calculating 7-day retention for both AB-groups\n",
        "df.groupby('version')['retention_7'].sum() / df.groupby('version')['retention_7'].count()\n"
      ]
    },
    {
      "cell_type": "markdown",
      "metadata": {
        "id": "ep-QYa0m5IJe"
      },
      "source": [
        "Как и в случае с 1-дневным удержанием, мы видим, что 7-дневное удержание немного ниже (18,2%), когда врата находятся на уровне 40, чем когда врата находятся на уровне 30 (19,0%). (ЧЕМ ОБЪЯСНИТЬ?) Эта разница также больше, чем при 1-дневном удержании, предположительно потому, что больше игроков успели поразить первые ворота. Но, как и прежде, давайте воспользуемся bootstrap-анализом, чтобы выяснить, насколько мы должны быть уверены в различии между AB-группами."
      ]
    },
    {
      "cell_type": "code",
      "execution_count": null,
      "metadata": {
        "id": "SYSwMUn25_nZ"
      },
      "outputs": [],
      "source": [
        "boot_7d = []\n",
        "for i in range(500):\n",
        "    boot_mean = df.retention_7.sample(frac=1, replace=True).groupby(df.version).mean()\n",
        "    boot_7d.append(boot_mean)\n",
        "    \n",
        "# Transforming the list to a DataFrame\n",
        "boot_7d = pd.DataFrame(boot_7d)\n",
        "print(boot_7d.head())\n",
        "# Adding a column with the % difference between the two AB-groups\n",
        "boot_7d['diff'] = (boot_7d['gate_30'] - boot_7d['gate_40']) /  boot_7d['gate_40'] * 100\n",
        "\n"
      ]
    },
    {
      "cell_type": "code",
      "execution_count": null,
      "metadata": {
        "id": "eiPt7o8c6mRy"
      },
      "outputs": [],
      "source": [
        "# Plotting the bootstrap % difference\n",
        "ax = boot_7d['diff'].plot.kde()\n",
        "ax.set_xlabel(\"% difference in means\")\n",
        "ax.set_title(\"% Difference Distribution For 7 Days\")\n",
        "# Calculating the probability that 7-day retention is greater when the gate is at level 30\n",
        "prob = (boot_7d['diff'] > 0).sum() / len(boot_7d['diff'])\n",
        "\n",
        "# Pretty printing the probability\n",
        "print(prob)\n"
      ]
    },
    {
      "cell_type": "markdown",
      "metadata": {
        "id": "On1mk0y5ZB_Y"
      },
      "source": [
        "## **ВЫВОД**\n",
        "\n",
        "Результат начальной загрузки говорит нам, что есть убедительные доказательства того, что 7-дневное удержание выше, когда ворота находятся на уровне 30, чем когда они находятся на уровне 40. Вывод таков: если мы хотим сохранить высокий уровень удержания — как 1-дневное, так и 7-дневное удержание — мы не должны перемещать ворота с уровня 30 на уровень 40. Конечно, есть и другие показатели, на которые мы могли бы обратить внимание, например, количество сыгранных игровых раундов или количество внутриигровых покупок, сделанных двумя AB-группами. Но удержание - один из самых важных показателей. Если мы не сохраним нашу базу игроков, не имеет значения, сколько денег они тратят в игре.\n",
        "\n",
        "Итак, почему удержание выше, когда ворота расположены раньше? Можно было бы ожидать обратного: чем позже возникнет препятствие, тем дольше люди будут заниматься игрой. Но это не то, о чем говорят нам данные. Теория гедонистической адаптации может дать этому одно объяснение. Короче говоря, гедонистическая адаптация - это тенденция людей получать все меньше и меньше удовольствия от веселой деятельности с течением времени, если эта деятельность осуществляется непрерывно. Заставляя игроков делать перерыв, когда они достигают ворот, они получают больше удовольствия от игры. Но когда ворота перемещаются на 40-й уровень, меньшему количеству игроков удается пройти достаточно далеко, и они с большей вероятностью выйдут из игры, потому что им это просто наскучило.\n",
        "\n",
        "***Итого стоит оставить ворота на 30 уровне***\n",
        "\n"
      ]
    }
  ],
  "metadata": {
    "colab": {
      "provenance": []
    },
    "kernelspec": {
      "display_name": "Python 3",
      "language": "python",
      "name": "python3"
    },
    "language_info": {
      "codemirror_mode": {
        "name": "ipython",
        "version": 3
      },
      "file_extension": ".py",
      "mimetype": "text/x-python",
      "name": "python",
      "nbconvert_exporter": "python",
      "pygments_lexer": "ipython3",
      "version": "3.10.4"
    },
    "vscode": {
      "interpreter": {
        "hash": "26de051ba29f2982a8de78e945f0abaf191376122a1563185a90213a26c5da77"
      }
    }
  },
  "nbformat": 4,
  "nbformat_minor": 0
}
